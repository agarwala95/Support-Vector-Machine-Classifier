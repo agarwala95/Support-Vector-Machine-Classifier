{
 "cells": [
  {
   "cell_type": "code",
   "execution_count": 1,
   "metadata": {},
   "outputs": [
    {
     "name": "stderr",
     "output_type": "stream",
     "text": [
      "/home/harshita/.local/lib/python3.6/site-packages/sklearn/cross_validation.py:41: DeprecationWarning: This module was deprecated in version 0.18 in favor of the model_selection module into which all the refactored classes and functions are moved. Also note that the interface of the new CV iterators are different from that of this module. This module will be removed in 0.20.\n",
      "  \"This module will be removed in 0.20.\", DeprecationWarning)\n"
     ]
    }
   ],
   "source": [
    "from sklearn.decomposition import PCA\n",
    "from sklearn.datasets import load_iris\n",
    "from sklearn.svm import SVC\n",
    "from sklearn import cross_validation\n",
    "import matplotlib.pyplot as pl\n",
    "import numpy as np\n",
    "from sklearn.metrics import classification_report, confusion_matrix, accuracy_score\n",
    "from ipywidgets import interactive,interact\n",
    "import ipywidgets as widgets\n",
    "\n",
    "iris = load_iris()\n",
    "\n",
    "\n",
    "#X=iris.data[:,2:]\n",
    "y=iris.target\n",
    "pca = PCA(n_components=2).fit(iris.data)\n",
    "X = pca.transform(iris.data)\n",
    "X_train, X_test, y_train, y_test =   cross_validation.train_test_split(X,y,test_size=0.30, random_state=111)\n",
    "pca = PCA(n_components=2).fit(iris.data)\n",
    "pca_2d = X_train\n",
    "pca_2d_test = X_test\n"
   ]
  },
  {
   "cell_type": "code",
   "execution_count": 2,
   "metadata": {},
   "outputs": [
    {
     "data": {
      "application/vnd.jupyter.widget-view+json": {
       "model_id": "52e3d254096d4f1cae3652abf50d4b1c",
       "version_major": 2,
       "version_minor": 0
      },
      "text/plain": [
       "interactive(children=(IntSlider(value=5, description='deg', max=10, min=1), Output()), _dom_classes=('widget-i…"
      ]
     },
     "metadata": {},
     "output_type": "display_data"
    }
   ],
   "source": [
    "def func(deg):\n",
    "    svm_poly = SVC(kernel='poly', degree=deg)  \n",
    "    svm_poly.fit(pca_2d, y_train)  \n",
    "    y_pred_poly = svm_poly.predict(pca_2d_test) \n",
    "\n",
    "    #plotting training data\n",
    "    for i in range(0, pca_2d.shape[0]):\n",
    "        if y_train[i] == 1:\n",
    "            c1 = pl.scatter(pca_2d[i,0],pca_2d[i,1],c='g',s=20,marker='o')\n",
    "        elif y_train[i] == 2:\n",
    "            c2 = pl.scatter(pca_2d[i,0],pca_2d[i,1],c='b',s=20,marker='o')\n",
    "        elif y_train[i] == 0:\n",
    "            c6 = pl.scatter(pca_2d[i,0],pca_2d[i,1],c='r',s=20,marker='o')\n",
    "    pl.legend([c1, c2,c6], ['1 Versicolor',   '2 Virginica','0 Sentiosa'])\n",
    "\n",
    "    #plotting test data\n",
    "    for i in range(0, pca_2d_test.shape[0]):\n",
    "        if y_test[i] == 1:\n",
    "            c3 = pl.scatter(pca_2d_test[i,0],pca_2d_test[i,1],c='g',s=50,marker='x')\n",
    "        elif y_test[i] == 2:\n",
    "            c4 = pl.scatter(pca_2d_test[i,0],pca_2d_test[i,1],c='b',s=50,marker='x')\n",
    "        elif y_test[i] == 0:\n",
    "            c5 = pl.scatter(pca_2d_test[i,0],pca_2d_test[i,1],c='r',s=50,marker='x')\n",
    "    #pl.legend([c4, c5, c6], ['Setosa', 'Versicolor',   'Virginica'])\n",
    "\n",
    "    #plotting contours\n",
    "    x_min, x_max = pca_2d[:, 0].min() - 1,   pca_2d[:,0].max() + 1\n",
    "    y_min, y_max = pca_2d[:, 1].min() - 1,   pca_2d[:, 1].max() + 1\n",
    "    xx, yy = np.meshgrid(np.arange(x_min, x_max, .01),   np.arange(y_min, y_max, .01))\n",
    "    Z = svm_poly.predict(np.c_[xx.ravel(),  yy.ravel()])\n",
    "    Z = Z.reshape(xx.shape)\n",
    "    pl.contourf(xx, yy, Z,alpha=.08)\n",
    "    pl.title('SVM Polynomial Kernel of degree '+str(deg))\n",
    "    #pl.axis('off')\n",
    "    pl.show()\n",
    "\n",
    "\n",
    "    print(classification_report(y_test, y_pred_poly))  \n",
    "    print(\"Accuracy:\",accuracy_score(y_test, y_pred_poly))\n",
    "\n",
    "\n",
    "interactive_plot = interactive(func, deg=(1, 10))\n",
    "output = interactive_plot.children[-1]\n",
    "#output.layout.height = '500px'\n",
    "interactive_plot"
   ]
  },
  {
   "cell_type": "code",
   "execution_count": 3,
   "metadata": {},
   "outputs": [
    {
     "data": {
      "application/vnd.jupyter.widget-view+json": {
       "model_id": "f6b690e388df4e28bd3bfb1fdaac0be5",
       "version_major": 2,
       "version_minor": 0
      },
      "text/plain": [
       "interactive(children=(FloatSlider(value=0.1, description='gamma', max=10.0, min=0.1, step=0.05), Output()), _d…"
      ]
     },
     "metadata": {},
     "output_type": "display_data"
    }
   ],
   "source": [
    "def func(gamma):\n",
    "    svm_poly = SVC(kernel='rbf',gamma=gamma)  \n",
    "    svm_poly.fit(pca_2d, y_train)  \n",
    "    y_pred_poly = svm_poly.predict(pca_2d_test) \n",
    "\n",
    "    #plotting training data\n",
    "    for i in range(0, pca_2d.shape[0]):\n",
    "        if y_train[i] == 1:\n",
    "            c1 = pl.scatter(pca_2d[i,0],pca_2d[i,1],c='g',s=20,marker='o')\n",
    "        elif y_train[i] == 2:\n",
    "            c2 = pl.scatter(pca_2d[i,0],pca_2d[i,1],c='b',s=20,marker='o')\n",
    "        elif y_train[i] == 0:\n",
    "            c6 = pl.scatter(pca_2d[i,0],pca_2d[i,1],c='r',s=20,marker='o')\n",
    "    pl.legend([c1, c2,c6], ['1 Versicolor',   '2 Virginica','0 Sentiosa'])\n",
    "\n",
    "    #plotting test data\n",
    "    for i in range(0, pca_2d_test.shape[0]):\n",
    "        if y_test[i] == 1:\n",
    "            c3 = pl.scatter(pca_2d_test[i,0],pca_2d_test[i,1],c='g',s=50,marker='x')\n",
    "        elif y_test[i] == 2:\n",
    "            c4 = pl.scatter(pca_2d_test[i,0],pca_2d_test[i,1],c='b',s=50,marker='x')\n",
    "        elif y_test[i] == 0:\n",
    "            c5 = pl.scatter(pca_2d_test[i,0],pca_2d_test[i,1],c='r',s=50,marker='x')\n",
    "    #pl.legend([c4, c5, c6], ['Setosa', 'Versicolor',   'Virginica'])\n",
    "\n",
    "\n",
    "    #plotting contours\n",
    "    x_min, x_max = pca_2d[:, 0].min() - 1,   pca_2d[:,0].max() + 1\n",
    "    y_min, y_max = pca_2d[:, 1].min() - 1,   pca_2d[:, 1].max() + 1\n",
    "    xx, yy = np.meshgrid(np.arange(x_min, x_max, .01),   np.arange(y_min, y_max, .01))\n",
    "    Z = svm_poly.predict(np.c_[xx.ravel(),  yy.ravel()])\n",
    "    Z = Z.reshape(xx.shape)\n",
    "    pl.contourf(xx, yy, Z,alpha=.08)\n",
    "    pl.title('SVM Gaussian Kernel with gamma '+str(gamma))\n",
    "    #pl.axis('off')\n",
    "    pl.show()\n",
    "\n",
    "\n",
    "    print(classification_report(y_test, y_pred_poly))  \n",
    "    print(\"Accuracy:\",accuracy_score(y_test, y_pred_poly))\n",
    "    \n",
    "interactive_plot = interactive(func, gamma=widgets.FloatSlider(min=0.1,max=10,step=0.05,value=0.1))\n",
    "output = interactive_plot.children[-1]\n",
    "#output.layout.height = '500px'\n",
    "interactive_plot"
   ]
  },
  {
   "cell_type": "code",
   "execution_count": 5,
   "metadata": {},
   "outputs": [
    {
     "data": {
      "application/vnd.jupyter.widget-view+json": {
       "model_id": "48c9ecc04cda40ccbc796824a4472427",
       "version_major": 2,
       "version_minor": 0
      },
      "text/plain": [
       "interactive(children=(FloatSlider(value=0.03, description='gamma', max=1.0, min=0.01, step=0.01), Output()), _…"
      ]
     },
     "metadata": {},
     "output_type": "display_data"
    }
   ],
   "source": [
    "def func(gamma):\n",
    "    svm_poly = SVC(kernel='sigmoid',gamma=gamma)  \n",
    "    svm_poly.fit(pca_2d, y_train)  \n",
    "    y_pred_poly = svm_poly.predict(pca_2d_test) \n",
    "\n",
    "    #plotting training data\n",
    "    for i in range(0, pca_2d.shape[0]):\n",
    "        if y_train[i] == 1:\n",
    "            c1 = pl.scatter(pca_2d[i,0],pca_2d[i,1],c='g',s=20,marker='o')\n",
    "        elif y_train[i] == 2:\n",
    "            c2 = pl.scatter(pca_2d[i,0],pca_2d[i,1],c='b',s=20,marker='o')\n",
    "        elif y_train[i] == 0:\n",
    "            c6 = pl.scatter(pca_2d[i,0],pca_2d[i,1],c='r',s=20,marker='o')\n",
    "    pl.legend([c1, c2,c6], ['1 Versicolor',   '2 Virginica','0 Sentiosa'])\n",
    "\n",
    "    #plotting test data\n",
    "    for i in range(0, pca_2d_test.shape[0]):\n",
    "        if y_test[i] == 1:\n",
    "            c3 = pl.scatter(pca_2d_test[i,0],pca_2d_test[i,1],c='g',s=50,marker='x')\n",
    "        elif y_test[i] == 2:\n",
    "            c4 = pl.scatter(pca_2d_test[i,0],pca_2d_test[i,1],c='b',s=50,marker='x')\n",
    "        elif y_test[i] == 0:\n",
    "            c5 = pl.scatter(pca_2d_test[i,0],pca_2d_test[i,1],c='r',s=50,marker='x')\n",
    "    #pl.legend([c4, c5, c6], ['Setosa', 'Versicolor',   'Virginica'])\n",
    "\n",
    "\n",
    "    #plotting contours\n",
    "    x_min, x_max = pca_2d[:, 0].min() - 1,   pca_2d[:,0].max() + 1\n",
    "    y_min, y_max = pca_2d[:, 1].min() - 1,   pca_2d[:, 1].max() + 1\n",
    "    xx, yy = np.meshgrid(np.arange(x_min, x_max, .01),   np.arange(y_min, y_max, .01))\n",
    "    Z = svm_poly.predict(np.c_[xx.ravel(),  yy.ravel()])\n",
    "    Z = Z.reshape(xx.shape)\n",
    "    pl.contourf(xx, yy, Z,alpha=.08)\n",
    "    pl.title('SVM Sigmoid Kernel with gamma '+str(gamma))\n",
    "    #pl.axis('off')\n",
    "    pl.show()\n",
    "\n",
    "\n",
    "    print(classification_report(y_test, y_pred_poly))  \n",
    "    print(\"Accuracy:\",accuracy_score(y_test, y_pred_poly))\n",
    "    \n",
    "interactive_plot = interactive(func, gamma=widgets.FloatSlider(min=0.01,max=1,step=0.01,value=0.03))\n",
    "output = interactive_plot.children[-1]\n",
    "#output.layout.height = '500px'\n",
    "interactive_plot"
   ]
  }
 ],
 "metadata": {
  "kernelspec": {
   "display_name": "Python 3",
   "language": "python",
   "name": "python3"
  },
  "language_info": {
   "codemirror_mode": {
    "name": "ipython",
    "version": 3
   },
   "file_extension": ".py",
   "mimetype": "text/x-python",
   "name": "python",
   "nbconvert_exporter": "python",
   "pygments_lexer": "ipython3",
   "version": "3.6.7"
  }
 },
 "nbformat": 4,
 "nbformat_minor": 2
}
